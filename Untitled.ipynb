{
 "cells": [
  {
   "cell_type": "code",
   "execution_count": 34,
   "metadata": {},
   "outputs": [],
   "source": [
    "import numpy as np\n",
    "import pandas as pd\n",
    "import random as random"
   ]
  },
  {
   "cell_type": "code",
   "execution_count": 35,
   "metadata": {},
   "outputs": [],
   "source": [
    "X1 = np.load('trainxnp.npy')\n",
    "X2=  np.load('trainx1np.npy')\n",
    "X = np.concatenate((X1, X2), axis=0)"
   ]
  },
  {
   "cell_type": "code",
   "execution_count": 36,
   "metadata": {},
   "outputs": [],
   "source": [
    "y1 = np.load('trainynp.npy')\n",
    "y2 = np.load('trainy1np.npy')\n",
    "y = np.concatenate((y1, y2), axis=0)"
   ]
  },
  {
   "cell_type": "code",
   "execution_count": 37,
   "metadata": {},
   "outputs": [
    {
     "data": {
      "text/plain": [
       "(163,)"
      ]
     },
     "execution_count": 37,
     "metadata": {},
     "output_type": "execute_result"
    }
   ],
   "source": [
    "train_X = pd.DataFrame(X)\n",
    "train_y = pd.DataFrame(y)\n",
    "X = train_X.iloc[:, :].values\n",
    "y = train_y.iloc[:, 0].values\n",
    "y = y-1\n",
    "y.shape"
   ]
  },
  {
   "cell_type": "code",
   "execution_count": 38,
   "metadata": {},
   "outputs": [
    {
     "data": {
      "text/plain": [
       "array([  0.,   0.,   0.,  27., 100.,  -6., -14.,  39.,  34.,   4.,   0.,\n",
       "         0.,   0.,   0.,  20., 100., -13., -21.,  32.,  27.,   1.,   0.,\n",
       "         0.,   0.,   0.,  40., 100.,   7.,  -1.,  52.,  47.,   4.,   0.,\n",
       "         0.,   0.,   0.,  17., 100., 100., 100.,  29.,  24.,   7.,   0.,\n",
       "         2.])"
      ]
     },
     "execution_count": 38,
     "metadata": {},
     "output_type": "execute_result"
    }
   ],
   "source": [
    "X[0]"
   ]
  },
  {
   "cell_type": "code",
   "execution_count": 39,
   "metadata": {},
   "outputs": [
    {
     "data": {
      "text/plain": [
       "array([ 0,  3,  0,  2,  2,  2,  1,  0,  3,  0,  2,  0,  3,  3,  1,  3,  3,\n",
       "        0,  0,  0,  1,  1,  3,  1,  1,  2,  0,  0,  0,  3,  1,  0,  2,  0,\n",
       "        3,  0,  0,  0,  2,  0,  3,  1,  0,  0,  2,  0,  2,  1,  2,  0,  1,\n",
       "        1,  1,  2,  3,  3,  2,  0,  2,  2,  3,  0,  3,  2,  3,  1,  0,  1,\n",
       "        1,  3,  3,  0,  2,  0,  2,  2,  1,  2,  1,  3,  2,  3,  1,  3,  1,\n",
       "        3,  1,  0,  3,  3,  0,  3,  1,  2,  0,  2,  0,  3,  3,  0,  0,  1,\n",
       "        0,  3,  2,  3,  0,  2,  0,  2,  1,  2,  3,  1,  0,  0,  0,  3,  0,\n",
       "        3,  0,  3,  0,  1,  1,  2,  3,  2,  1,  0,  0,  2,  1,  1,  2,  3,\n",
       "        0,  2,  1,  0,  0,  0,  1,  3,  3,  1, 33,  0,  3,  1,  3,  2,  2,\n",
       "        1,  0,  2,  1,  1,  1,  0,  2,  0,  1])"
      ]
     },
     "execution_count": 39,
     "metadata": {},
     "output_type": "execute_result"
    }
   ],
   "source": [
    "y"
   ]
  },
  {
   "cell_type": "code",
   "execution_count": 40,
   "metadata": {},
   "outputs": [
    {
     "data": {
      "text/plain": [
       "RandomForestClassifier(bootstrap=True, class_weight=None, criterion='entropy',\n",
       "            max_depth=None, max_features='auto', max_leaf_nodes=None,\n",
       "            min_impurity_decrease=0.0, min_impurity_split=None,\n",
       "            min_samples_leaf=1, min_samples_split=2,\n",
       "            min_weight_fraction_leaf=0.0, n_estimators=10, n_jobs=None,\n",
       "            oob_score=False, random_state=0, verbose=0, warm_start=False)"
      ]
     },
     "execution_count": 40,
     "metadata": {},
     "output_type": "execute_result"
    }
   ],
   "source": [
    "from sklearn.ensemble import RandomForestClassifier\n",
    "classifier = RandomForestClassifier(n_estimators = 10, criterion = 'entropy', random_state = 0)\n",
    "classifier.fit(X, y)"
   ]
  },
  {
   "cell_type": "code",
   "execution_count": 41,
   "metadata": {},
   "outputs": [],
   "source": [
    "y_pred = classifier.predict(X)"
   ]
  },
  {
   "cell_type": "code",
   "execution_count": 42,
   "metadata": {},
   "outputs": [
    {
     "data": {
      "text/plain": [
       "array([ 0,  3,  0,  2,  2,  2,  1,  0,  3,  0,  2,  0,  3,  3,  1,  3,  3,\n",
       "        0,  0,  0,  1,  1,  3,  1,  1,  2,  0,  0,  0,  3,  1,  0,  2,  0,\n",
       "        3,  0,  0,  0,  2,  0,  3,  1,  0,  0,  2,  0,  2,  1,  2,  0,  1,\n",
       "        1,  1,  2,  3,  3,  2,  0,  2,  2,  3,  0,  3,  2,  3,  1,  0,  1,\n",
       "        1,  3,  3,  0,  2,  0,  2,  2,  1,  2,  1,  3,  2,  3,  1,  3,  1,\n",
       "        3,  1,  0,  3,  3,  0,  3,  1,  2,  0,  2,  0,  3,  3,  0,  0,  1,\n",
       "        0,  3,  2,  3,  0,  2,  0,  2,  1,  2,  3,  1,  0,  0,  0,  3,  0,\n",
       "        3,  0,  3,  0,  1,  1,  2,  3,  2,  1,  0,  0,  2,  1,  1,  2,  3,\n",
       "        0,  2,  1,  0,  0,  0,  0,  3,  3,  1, 33,  0,  3,  1,  3,  2,  2,\n",
       "        1,  0,  2,  1,  1,  1,  0,  2,  0,  1])"
      ]
     },
     "execution_count": 42,
     "metadata": {},
     "output_type": "execute_result"
    }
   ],
   "source": [
    "y_pred"
   ]
  },
  {
   "cell_type": "code",
   "execution_count": 43,
   "metadata": {},
   "outputs": [
    {
     "data": {
      "text/plain": [
       "array([[  0.,   0.,   0.,  -7., 100., 100., 100.,  23.,  18.,   1.,   0.,\n",
       "          0.,   0.,   0.,   7., -20., -16.,  -3.,  37.,  32.,   2.,   0.,\n",
       "          0.,   0.,   0.,  -1., 100., 100., 100.,  29.,  24.,   7.,   0.,\n",
       "          0.,   0.,   0., -17., 100., 100., 100.,  13.,   8.,   4.,   0.,\n",
       "          2.]])"
      ]
     },
     "execution_count": 43,
     "metadata": {},
     "output_type": "execute_result"
    }
   ],
   "source": [
    "X[-1].reshape(1, -1)"
   ]
  },
  {
   "cell_type": "code",
   "execution_count": 74,
   "metadata": {},
   "outputs": [],
   "source": [
    "flag = False\n",
    "safe_points = [0,8,13,21,26,34,39,47]\n",
    "while(flag==False):\n",
    "    points = np.random.randint(-1, high=56, size=8)\n",
    "    player1_points = points[:4]\n",
    "    player2_points = points[-4:]\n",
    "    value =[0,0,0,0]\n",
    "    for j,i in enumerate(player2_points):\n",
    "        if(i<0 or i>50):\n",
    "            a = 100\n",
    "        else:\n",
    "            a = 26 + i\n",
    "        if(a>50):\n",
    "            a = i- 26\n",
    "        value[j] = a\n",
    "    flag=True\n",
    "    for i in player1_points:\n",
    "        if i in value:\n",
    "            if(i in safe_points):\n",
    "                w =1\n",
    "            else:\n",
    "                flag = False\n",
    "                break\n",
    "\n",
    "\n",
    "\n",
    "feature_vector = np.zeros(45)\n",
    "\n",
    "main_safe_points = [0,8,13,21,25,26,34,39,47]\n",
    "for i in range(4):   #Iterate through player1 markers\n",
    "    if (points[i] in main_safe_points):\n",
    "        feature_vector[10+11*i] = 1 #At a safe point\n",
    "    else:\n",
    "        feature_vector[10+11*i] = 0 #Not at a safe point\n",
    "    if(points[i]==-1):  # If inside assign a category\n",
    "        feature_vector[11*i] = 1\n",
    "        feature_vector[7+11*i] = 100 #Distance to goal is infinite\n",
    "        feature_vector[8+11*i] = 100 #Distance to entry is infinite\n",
    "        feature_vector[9+11*i] = 100 #Distance to next safe point is infinite\n",
    "    else:\n",
    "        distance_from_safe_points = main_safe_points-points[i]\n",
    "        for l in (distance_from_safe_points):\n",
    "            if(l>0):\n",
    "                feature_vector[9+11*i] = l #Distance to next safe point \n",
    "                break\n",
    "            else:\n",
    "                feature_vector[9+11*i] = l #Distance from safe point \n",
    "\n",
    "        feature_vector[11*i] = 0\n",
    "        feature_vector[7+11*i] = 56-points[i] #Distance to goal \n",
    "        feature_vector[8+11*i] = 51-points[i] #Distance to entry \n",
    "    if(points[i]==56):  #if at goal assign a category\n",
    "        feature_vector[1+11*i] = 1\n",
    "    else:\n",
    "        feature_vector[1+11*i] = 0\n",
    "    if(points[i]>50):  #If inside entry assign a category\n",
    "        feature_vector[2+11*i] = 1\n",
    "    else:\n",
    "        feature_vector[2+11*i] = 0\n",
    "    for k,j in enumerate(value):  #Iterate through opponents markers for distance purpose\n",
    "        if(points[i]==-1 or points[i]>50):  #If inside or inside entry then no need to find distance\n",
    "                feature_vector[3+k+11*i] = 100\n",
    "                continue\n",
    "        if(points[i]<25): #If player1 marker at the starting half\n",
    "            if(player2_points[k]==-1 or player2_points[k]>50):  #If opponents marker inside entry or inside no need to find distance\n",
    "                feature_vector[3+k+11*i] = 100\n",
    "            else: \n",
    "                feature_vector[3+k+11*i] = j-points[i]\n",
    "        else: #if player1s marker in the second half\n",
    "            if(j<25): #if opponents marker in the first half no need to find distance\n",
    "                feature_vector[3+k+11*i] = 100\n",
    "            else:\n",
    "                if(player2_points[k]==-1 or player2_points[k]>50): #If opponents marker inside entry or inside no need to find distance\n",
    "                    feature_vector[3+k+11*i] = 100\n",
    "                else:\n",
    "                    feature_vector[3+k+11*i] = j-points[i]\n",
    "\n",
    "\n",
    "feature_vector[-1] = random.randint(1,6)\n",
    "\n"
   ]
  },
  {
   "cell_type": "code",
   "execution_count": 75,
   "metadata": {},
   "outputs": [
    {
     "data": {
      "text/plain": [
       "array([  0.,   0.,   0., 100.,  11., 100., 100.,  28.,  23.,   6.,   0.,\n",
       "         0.,   0.,   0., 100.,   8., 100., 100.,  25.,  20.,   3.,   0.,\n",
       "         0.,   0.,   0., -19.,  19., -13., 100.,  36.,  31.,   1.,   0.,\n",
       "         0.,   0.,   0., -23.,  15., -17., 100.,  32.,  27.,   1.,   0.,\n",
       "         3.])"
      ]
     },
     "execution_count": 75,
     "metadata": {},
     "output_type": "execute_result"
    }
   ],
   "source": [
    "feature_vector\n"
   ]
  },
  {
   "cell_type": "code",
   "execution_count": 76,
   "metadata": {},
   "outputs": [
    {
     "data": {
      "text/plain": [
       "array([2])"
      ]
     },
     "execution_count": 76,
     "metadata": {},
     "output_type": "execute_result"
    }
   ],
   "source": [
    "classifier.predict(feature_vector.reshape(1, -1))"
   ]
  },
  {
   "cell_type": "code",
   "execution_count": null,
   "metadata": {},
   "outputs": [],
   "source": []
  },
  {
   "cell_type": "code",
   "execution_count": null,
   "metadata": {},
   "outputs": [],
   "source": []
  },
  {
   "cell_type": "code",
   "execution_count": null,
   "metadata": {},
   "outputs": [],
   "source": []
  },
  {
   "cell_type": "code",
   "execution_count": null,
   "metadata": {},
   "outputs": [],
   "source": []
  },
  {
   "cell_type": "code",
   "execution_count": null,
   "metadata": {},
   "outputs": [],
   "source": []
  },
  {
   "cell_type": "code",
   "execution_count": null,
   "metadata": {},
   "outputs": [],
   "source": []
  },
  {
   "cell_type": "code",
   "execution_count": null,
   "metadata": {},
   "outputs": [],
   "source": []
  },
  {
   "cell_type": "code",
   "execution_count": null,
   "metadata": {},
   "outputs": [],
   "source": []
  }
 ],
 "metadata": {
  "kernelspec": {
   "display_name": "Python 3",
   "language": "python",
   "name": "python3"
  },
  "language_info": {
   "codemirror_mode": {
    "name": "ipython",
    "version": 2
   },
   "file_extension": ".py",
   "mimetype": "text/x-python",
   "name": "python",
   "nbconvert_exporter": "python",
   "pygments_lexer": "ipython2",
   "version": "2.7.17"
  }
 },
 "nbformat": 4,
 "nbformat_minor": 2
}
